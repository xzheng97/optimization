{
 "cells": [
  {
   "cell_type": "markdown",
   "metadata": {},
   "source": [
    "### 1. Max-flow to min-cost"
   ]
  },
  {
   "cell_type": "markdown",
   "metadata": {},
   "source": [
    "#### a)\n",
    "Denote nodes on the first line as 1,2,4,6,7,respectively from left to right; denote nodes on the second line as 3,5,6, respectively from left to right.<br>\n",
    "$x_{ij}$ is the flow from i to j, $(i,j) \\in \\varepsilon$\n",
    "\n",
    "let x =\\begin{bmatrix}\n",
    "x_{12}\\\\\n",
    "x_{13}\\\\\n",
    "x_{24}\\\\\n",
    "x_{34}\\\\\n",
    "x_{35}\\\\\n",
    "x_{46}\\\\\n",
    "x_{57}\\\\\n",
    "x_{67}\\\\\n",
    "\\end{bmatrix}\n",
    "Then A =\\begin{bmatrix}\n",
    "1&1&0&0&0&0&0&0\\\\\n",
    "-1&0&1&0&0&0&0&0\\\\\n",
    "0&-1&0&1&1&0&0&0\\\\\n",
    "0&0&-1&-1&0&1&0&0\\\\\n",
    "0&0&0&0&-1&0&1&0\\\\\n",
    "0&0&0&0&0&-1&0&1\\\\\n",
    "0&0&0&0&0&0&-1&-1\\\\\n",
    "\\end{bmatrix}\n",
    "$q_{ij}$ is the maximum flow from i to j,$(i,j) \\in \\varepsilon$.<br>\n",
    "q = \\begin{bmatrix}\n",
    "3\\\\\n",
    "2\\\\\n",
    "1\\\\\n",
    "4\\\\\n",
    "2\\\\\n",
    "3\\\\\n",
    "3\\\\\n",
    "2\\\\\n",
    "\\end{bmatrix}\n",
    "$p_{ij}$ is the minimum flow from i to j,$(i,j) \\in \\varepsilon$.<br>\n",
    "p = \\begin{bmatrix}\n",
    "0\\\\\n",
    "0\\\\\n",
    "0\\\\\n",
    "0\\\\\n",
    "0\\\\\n",
    "0\\\\\n",
    "0\\\\\n",
    "0\\\\\n",
    "\\end{bmatrix}"
   ]
  },
  {
   "cell_type": "markdown",
   "metadata": {},
   "source": [
    "#### b)\n",
    "We transform the max flow problem into min-cost flow problem. <br>\n",
    "In such case, x =\\begin{bmatrix}\n",
    "x_{12}\\\\\n",
    "x_{13}\\\\\n",
    "x_{24}\\\\\n",
    "x_{34}\\\\\n",
    "x_{35}\\\\\n",
    "x_{46}\\\\\n",
    "x_{57}\\\\\n",
    "x_{67}\\\\\n",
    "x_{71}\\\\\n",
    "\\end{bmatrix}\n",
    "p and q don't change much,except for the constraint of the added feedback path.<br>\n",
    "p = \\begin{bmatrix}\n",
    "0\\\\\n",
    "0\\\\\n",
    "0\\\\\n",
    "0\\\\\n",
    "0\\\\\n",
    "0\\\\\n",
    "0\\\\\n",
    "0\\\\\n",
    "0\\\\\n",
    "\\end{bmatrix}\n",
    "q = \\begin{bmatrix}\n",
    "3\\\\\n",
    "2\\\\\n",
    "1\\\\\n",
    "4\\\\\n",
    "2\\\\\n",
    "3\\\\\n",
    "3\\\\\n",
    "2\\\\\n",
    "\\infty\\\\\n",
    "\\end{bmatrix}\n",
    "c = \\begin{bmatrix}\n",
    "0&0&0&0&0&0&0&0&1\\\\\n",
    "\\end{bmatrix}\n",
    "since the objective is max, if the objective is min, 1 at the end should be -1 <br>\n",
    "b = \\begin{bmatrix}\n",
    "0\\\\\n",
    "0\\\\\n",
    "0\\\\\n",
    "0\\\\\n",
    "0\\\\\n",
    "0\\\\\n",
    "0\\\\\n",
    "0\\\\\n",
    "0\\\\\n",
    "\\end{bmatrix}"
   ]
  },
  {
   "cell_type": "markdown",
   "metadata": {},
   "source": [
    "#### c)\n",
    "The minimum cut of the this graph is 3, the edges in cut are (1,3) and (2,4).<br>\n",
    "The variables in the dual problem has the relations:<br>\n",
    "$\\mu_j - \\mu_i = \\lambda{ij}$<br> \n",
    "$\\mu_1 = 0$<br> \n",
    "$\\mu_7 = 1$<br>\n",
    "$\\mu_1<=\\mu_2<=\\mu_4<=\\mu_6<=\\mu_7$,\n",
    "$\\mu_1<=\\mu_3<=\\mu_4<=\\mu_6<=\\mu_7$,\n",
    "$\\mu_1<=\\mu_3<=\\mu_5<=\\mu_7$\n"
   ]
  },
  {
   "cell_type": "markdown",
   "metadata": {},
   "source": [
    "### 2. The chess problem"
   ]
  },
  {
   "cell_type": "markdown",
   "metadata": {},
   "source": [
    "#### a)"
   ]
  },
  {
   "cell_type": "code",
   "execution_count": 2,
   "metadata": {},
   "outputs": [
    {
     "name": "stdout",
     "output_type": "stream",
     "text": [
      "472.0\n"
     ]
    },
    {
     "data": {
      "text/latex": [
       "$$ \\begin{alignat*}{1}\\max\\quad & 5 s + 8 l\\\\\n",
       "\\text{Subject to} \\quad & 3 s + 2 l \\leq 160\\\\\n",
       " & s + 4 l \\leq 200\\\\\n",
       " & s \\geq 0\\\\\n",
       " & l \\geq 0\\\\\n",
       "\\end{alignat*}\n",
       " $$"
      ],
      "text/plain": [
       "Maximization problem with:\n",
       " * 2 linear constraints\n",
       " * 2 variables\n",
       "Solver is Clp"
      ]
     },
     "execution_count": 2,
     "metadata": {},
     "output_type": "execute_result"
    }
   ],
   "source": [
    "using JuMP, Clp\n",
    "m = Model(solver=ClpSolver())\n",
    "@variable(m,s>=0)\n",
    "@variable(m,l>=0)\n",
    "@constraint(m, 3s + 2l <= 160)\n",
    "@constraint(m, s + 4l <= 200)\n",
    "@objective(m, Max, 5s+8l)\n",
    "status = solve(m)\n",
    "println(getobjectivevalue(m))\n",
    "m"
   ]
  },
  {
   "cell_type": "code",
   "execution_count": 3,
   "metadata": {},
   "outputs": [
    {
     "data": {
      "image/png": "[encoded data removed]",
      "text/plain": [
       "Figure(PyObject <Figure size 500x500 with 1 Axes>)"
      ]
     },
     "metadata": {},
     "output_type": "display_data"
    }
   ],
   "source": [
    "using PyPlot\n",
    "figure(figsize=(5,5))\n",
    "\n",
    "w = collect(0:3:100)\n",
    "\n",
    "y1 = [80 .- (3/2)w[i] for i=1:length(w)]\n",
    "plot( w, y1)    \n",
    "\n",
    "y2 = [50 .- (1/4)w[i]  for i=1:length(w)]\n",
    "plot( w, y2)         \n",
    "\n",
    "y3 = [472/8 .- (5/8)w[i] for i=1:length(w)]\n",
    "plot( w, y3, \":\")          \n",
    "plot(24, 44, \"k.\", markersize=12)\n",
    "text( 26,50, \"(24,44)\")\n",
    "grid(); axis(\"equal\"); axis([0,100,0,100]);\n",
    "xlabel(\"small chess set\");  ylabel(\"large chess set\")\n",
    "fill([0, 0, 24, 160/3, 0], [0, 50, 44, 0, 0],color = \"y\")\n",
    "legend([\"maximum hrs of lathe\", \"maximum weight of boxwood\",\"optimal solution\"])\n",
    "title(\"Chess sets production\");"
   ]
  },
  {
   "cell_type": "code",
   "execution_count": 4,
   "metadata": {},
   "outputs": [
    {
     "name": "stdout",
     "output_type": "stream",
     "text": [
      "471.99999999999994\n"
     ]
    },
    {
     "data": {
      "text/latex": [
       "$$ \\begin{alignat*}{1}\\min\\quad & 160 x_{1} + 200 x_{2}\\\\\n",
       "\\text{Subject to} \\quad & 3 x_{1} + x_{2} \\geq 5\\\\\n",
       " & 2 x_{1} + 4 x_{2} \\geq 8\\\\\n",
       " & x_{i} \\geq 0 \\quad\\forall i \\in \\{1,2\\}\\\\\n",
       "\\end{alignat*}\n",
       " $$"
      ],
      "text/plain": [
       "Minimization problem with:\n",
       " * 2 linear constraints\n",
       " * 2 variables\n",
       "Solver is Clp"
      ]
     },
     "execution_count": 4,
     "metadata": {},
     "output_type": "execute_result"
    }
   ],
   "source": [
    "using JuMP, Clp\n",
    "A = [3 1;2 4]\n",
    "c = [160;200]\n",
    "b = [5;8]\n",
    "m = Model(solver=ClpSolver())\n",
    "@variable(m,x[1:2]>=0) \n",
    "@constraint(m,A*x.>=b)\n",
    "@objective(m, Min,c'*x)\n",
    "status = solve(m)\n",
    "println(getobjectivevalue(m))\n",
    "m"
   ]
  },
  {
   "cell_type": "code",
   "execution_count": 5,
   "metadata": {},
   "outputs": [
    {
     "data": {
      "image/png": "[encoded data removed]",
      "text/plain": [
       "Figure(PyObject <Figure size 500x500 with 1 Axes>)"
      ]
     },
     "metadata": {},
     "output_type": "display_data"
    }
   ],
   "source": [
    "using PyPlot\n",
    "figure(figsize=(5,5))\n",
    "\n",
    "w = collect(0:3:10)\n",
    "\n",
    "y1 = [5 .- 3w[i] for i=1:length(w)]\n",
    "plot( w, y1)    \n",
    "\n",
    "y2 = [2 .- (1/2)w[i]  for i=1:length(w)]\n",
    "plot( w, y2)         \n",
    "\n",
    "y3 = [472/200 .- (4/5)w[i] for i=1:length(w)]\n",
    "plot( w, y3, \":\")          \n",
    "plot(1.2, 1.4, \"k.\", markersize=12)\n",
    "text( 1.4,1.5, \"(1.2,1.4)\")\n",
    "grid(); axis(\"equal\"); axis([0,5,0,5]);\n",
    "xlabel(\"price that lathe worths\");  ylabel(\"price that boxwood worths\")\n",
    "fill([0, 1.2, 4, 5, 5], [5, 1.4, 0, 0, 5],color = \"y\")\n",
    "legend([\"minimum cost of small chess set\", \"minimum cost of large chess set\",\"optimal solution\"])\n",
    "title(\"Chess sets production\");"
   ]
  },
  {
   "cell_type": "markdown",
   "metadata": {},
   "source": [
    "### 3. Stigler's supplement"
   ]
  },
  {
   "cell_type": "markdown",
   "metadata": {},
   "source": [
    "#### a)"
   ]
  },
  {
   "cell_type": "code",
   "execution_count": 10,
   "metadata": {},
   "outputs": [
    {
     "data": {
      "text/plain": [
       "77×9 Named Array{Union{Missing, Float64},2}\n",
       "      foods ╲ nutrients │     Calories (1000)  …   Ascorbic Acid (mg)\n",
       "────────────────────────┼────────────────────────────────────────────\n",
       "Wheat Flour (Enriched)  │                44.7  …                  0.0\n",
       "Macaroni                │                11.6                     0.0\n",
       "Wheat Cereal (Enriched) │                11.8                     0.0\n",
       "Corn Flakes             │                11.4                     0.0\n",
       "Corn Meal               │                36.0                     0.0\n",
       "Hominy Grits            │                28.6                     0.0\n",
       "Rice                    │                21.2                     0.0\n",
       "Rolled Oats             │                25.3                     0.0\n",
       "White Bread (Enriched)  │                15.0                     0.0\n",
       "Whole Wheat Bread       │                12.2                     0.0\n",
       "Rye Bread               │                12.4                     0.0\n",
       "Pound Cake              │                 8.0                     0.0\n",
       "⋮                                           ⋮  ⋱                    ⋮\n",
       "Raisins, Dried          │                13.5                   136.0\n",
       "Peas, Dried             │                20.0                     0.0\n",
       "Lima Beans, Dried       │                17.4                     0.0\n",
       "Navy Beans, Dried       │                26.9                     0.0\n",
       "Coffee                  │                 0.0                     0.0\n",
       "Tea                     │                 0.0                     0.0\n",
       "Cocoa                   │                 8.7                     0.0\n",
       "Chocolate               │                 8.0                     0.0\n",
       "Sugar                   │                34.9                     0.0\n",
       "Corn Syrup              │                14.7                     0.0\n",
       "Molasses                │                 9.0                     0.0\n",
       "Strawberry Preserves    │                 6.4  …                  0.0"
      ]
     },
     "execution_count": 10,
     "metadata": {},
     "output_type": "execute_result"
    }
   ],
   "source": [
    "using NamedArrays, CSV\n",
    "\n",
    "# import Stigler's data set\n",
    "raw = CSV.read(\"stigler.csv\");\n",
    "(m,n) = size(raw)\n",
    "\n",
    "n_nutrients = 2:n      # columns containing nutrients\n",
    "n_foods = 3:m          # rows containing food names\n",
    "\n",
    "# list of food\n",
    "foods = raw[2:end,1]\n",
    "# list of nutrients\n",
    "nutrients = [string(names(raw)[i]) for i=2:length(names(raw))]\n",
    "\n",
    "# minimum required amount of each nutrient\n",
    "lower = Dict( zip(nutrients,raw[1,n_nutrients]) )\n",
    "\n",
    "# data[f,i] is the amount of nutrient i contained in food f \n",
    "dataraw = convert(Matrix, raw[2:end,2:end])\n",
    "data = NamedArray(dataraw,(foods,nutrients),(\"foods\",\"nutrients\"))\n"
   ]
  },
  {
   "cell_type": "code",
   "execution_count": 7,
   "metadata": {},
   "outputs": [
    {
     "name": "stdout",
     "output_type": "stream",
     "text": [
      "The optimal (daily) diet is:\n",
      "Calories (1000): 0.008765147298049485\n",
      "Protein (g): 0.0\n",
      "Calcium (g): 0.03173771344563715\n",
      "Iron (mg): 0.0\n",
      "Vitamin A (1000 IU): 0.00040023272172538176\n",
      "Thiamine (mg): 0.0\n",
      "Riboflavin (mg): 0.016358032699276687\n",
      "Niacin (mg): 0.0\n",
      "Ascorbic Acid (mg): 0.00014411751545899702\n",
      "\n",
      "The cost per year is: $39.661731545466274\n",
      "The most amount to pay per pill is: $0.015868856722818576\n"
     ]
    }
   ],
   "source": [
    "# Write as a linear dual program and solve!\n",
    "\n",
    "using JuMP,Clp\n",
    "m = Model(solver=ClpSolver())\n",
    "\n",
    "@variable(m, λ[nutrients] >= 0)\n",
    "for i in foods\n",
    "    @constraint(m, sum( data[i,j]* λ[j] for j in nutrients ) <= 1 )\n",
    "end\n",
    "\n",
    "@objective(m, Max, sum(lower[i].*λ[i] for i in nutrients))\n",
    "status = solve(m)\n",
    "println(\"The optimal (daily) diet is:\")\n",
    "for i in nutrients\n",
    "        println(i, \": \", getvalue(λ[i]))\n",
    "end\n",
    "println()\n",
    "println(\"The cost per year is: \\$\", 365*getobjectivevalue(m))\n",
    "println(\"The most amount to pay per pill is: \\$\", getvalue(λ[\"Calcium (g)\"])/2)\n"
   ]
  },
  {
   "cell_type": "markdown",
   "metadata": {},
   "source": [
    "#### b)"
   ]
  },
  {
   "cell_type": "code",
   "execution_count": 9,
   "metadata": {},
   "outputs": [
    {
     "name": "stdout",
     "output_type": "stream",
     "text": [
      "The optimal (daily) diet is:\n",
      "Wheat Flour (Enriched): 0.06598060307911847\n",
      "Liver (Beef): 0.007844338921201144\n",
      "Cabbage: 0.011195027632464829\n",
      "Spinach: 0.003911295356684475\n",
      "Calcium Pill: 1.2433796310553271\n",
      "\n",
      "The cost per year is: $36.998247374508104\n",
      "The saved amount is: $2.800416975900859\n"
     ]
    }
   ],
   "source": [
    "using JuMP,Clp\n",
    "m = Model(solver=ClpSolver())\n",
    "\n",
    "@variable(m, x[foods] >= 0)\n",
    "@variable(m, c >= 0)\n",
    "for j in nutrients\n",
    "    if j == \"Calcium (g)\"\n",
    "        @constraint(m, sum( data[i,j]*x[i] for i in foods ) + 0.5*c >= lower[j])\n",
    "    else\n",
    "        @constraint(m, sum( data[i,j]*x[i] for i in foods ) >= lower[j])\n",
    "    end\n",
    "end\n",
    "@objective(m, Min, sum(x) + 0.01*c)\n",
    "\n",
    "solve(m)\n",
    "println(\"The optimal (daily) diet is:\")\n",
    "xopt = getvalue(x)\n",
    "for i in foods\n",
    "    if xopt[i] > 1e-6\n",
    "        println(i, \": \", xopt[i])\n",
    "    end\n",
    "end\n",
    "println(\"Calcium Pill: \", getvalue(c))\n",
    "println()\n",
    "println(\"The cost per year is: \\$\", 365*getobjectivevalue(m))\n",
    "println(\"The saved amount is: \\$\", 39.79866435040896 - 365*getobjectivevalue(m))"
   ]
  },
  {
   "cell_type": "code",
   "execution_count": null,
   "metadata": {},
   "outputs": [],
   "source": []
  }
 ],
 "metadata": {
  "kernelspec": {
   "display_name": "Julia 1.0.3 (4 threads)",
   "language": "julia",
   "name": "julia-1.0k"
  },
  "language_info": {
   "file_extension": ".jl",
   "mimetype": "application/julia",
   "name": "julia",
   "version": "1.0.3"
  }
 },
 "nbformat": 4,
 "nbformat_minor": 2
}
