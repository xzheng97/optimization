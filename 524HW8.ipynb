{
 "cells": [
  {
   "cell_type": "markdown",
   "metadata": {},
   "source": [
    "### 1. Lagrangian duality"
   ]
  },
  {
   "cell_type": "code",
   "execution_count": 105,
   "metadata": {},
   "outputs": [
    {
     "name": "stdout",
     "output_type": "stream",
     "text": [
      "Academic license - for non-commercial use only\n",
      "Optimal\n",
      "p* = 0.5\n",
      "x1 = 1.0\n",
      "x2 = -0.0\n"
     ]
    }
   ],
   "source": [
    "#a\n",
    "using JuMP, Gurobi\n",
    "\n",
    "m = Model(solver = GurobiSolver(OutputFlag = 0))\n",
    "@variable(m,x_1)\n",
    "@variable(m,x_2)\n",
    "@constraint(m, 1 - x_1 <= 0)\n",
    "@objective(m, Min, (x_1^2 + x_2^2)/2)\n",
    "status = solve(m)\n",
    "println(status)\n",
    "println(\"p* = \", getobjectivevalue(m))\n",
    "println(\"x1 = \", getvalue(x_1))\n",
    "println(\"x2 = \", getvalue(x_2))\n",
    ";"
   ]
  },
  {
   "cell_type": "markdown",
   "metadata": {},
   "source": [
    "b) The lagrangian equation is $L(x, \\lambda) = {(x_1^2+x_2^2) \\over 2} + \\lambda(1-x_1)$ <br>\n",
    "Since the coefficients for $x_1$ and $x_2$ are all positive, it is bounded. The minimum occurs when $x_1 = \\lambda$,$x_2 = 0$ <br>\n",
    "<center>$g(\\lambda) = -{1\\over 2} \\lambda^2 + \\lambda$</center>\n"
   ]
  },
  {
   "cell_type": "code",
   "execution_count": 106,
   "metadata": {},
   "outputs": [
    {
     "name": "stdout",
     "output_type": "stream",
     "text": [
      "Academic license - for non-commercial use only\n",
      "Optimal\n",
      "d* = 0.5\n",
      "λ = 1.0\n"
     ]
    }
   ],
   "source": [
    "#c\n",
    "using JuMP, Gurobi\n",
    "\n",
    "m = Model(solver = GurobiSolver(OutputFlag = 0))\n",
    "@variable(m,λ >= 0)\n",
    "@objective(m, Max, (-λ^2/2 + λ))\n",
    "status = solve(m)\n",
    "println(status)\n",
    "println(\"d* = \", getobjectivevalue(m))\n",
    "println(\"λ = \", getvalue(λ))\n",
    ";"
   ]
  },
  {
   "cell_type": "markdown",
   "metadata": {},
   "source": [
    "d) Yes the Slater condition is satisfied for this problem, since the convexity for D and f holds, and there do exists some x in the interior of D such that f(x) < 0. <br>\n",
    "Obviously, in our case d* = p*, the strong duality holds."
   ]
  },
  {
   "cell_type": "markdown",
   "metadata": {},
   "source": [
    "### 2. Thrift store"
   ]
  },
  {
   "cell_type": "code",
   "execution_count": 107,
   "metadata": {},
   "outputs": [
    {
     "name": "stdout",
     "output_type": "stream",
     "text": [
      "Optimal\n",
      "#penny used = 4.0\n",
      "#nickel used = -0.0\n",
      "#dime used = 2.0\n",
      "#quarter used = 3.0\n",
      "#half dollar used = -0.0\n",
      "total weight = 31.546\n"
     ]
    }
   ],
   "source": [
    "#a\n",
    "using JuMP, Cbc\n",
    "\n",
    "m = Model(solver=CbcSolver())\n",
    "@variable(m, x[1:5], Int)\n",
    "for i in 1:5\n",
    "    @constraint(m, x[i] >= 0)\n",
    "end\n",
    "@constraint(m, x[1] + 5x[2] + 10x[3] + 25x[4] + 50x[5] == 99)\n",
    "@objective(m, Min, 2.5x[1] + 5x[2] + 2.268x[3] + 5.670x[4] + 11.34x[5])\n",
    "\n",
    "status = solve(m)\n",
    "println(status)\n",
    "println(\"#penny used = \", getvalue(x[1]))\n",
    "println(\"#nickel used = \", getvalue(x[2]))\n",
    "println(\"#dime used = \", getvalue(x[3]))\n",
    "println(\"#quarter used = \", getvalue(x[4]))\n",
    "println(\"#half dollar used = \", getvalue(x[5]))\n",
    "println(\"total weight = \", getobjectivevalue(m))\n",
    ";"
   ]
  },
  {
   "cell_type": "code",
   "execution_count": 108,
   "metadata": {},
   "outputs": [
    {
     "name": "stdout",
     "output_type": "stream",
     "text": [
      "# penny used = 4.0\n",
      "# nickel used = -0.0\n",
      "# dime used = 2.0\n",
      "# quarter used = 1.0\n",
      "# half dollar used = 1.0\n",
      "# of coins = 8.0\n"
     ]
    }
   ],
   "source": [
    "#b\n",
    "using JuMP, Cbc\n",
    "\n",
    "m = Model(solver=CbcSolver())\n",
    "@variable(m, x[1:5], Int)\n",
    "for i in 1:5\n",
    "    @constraint(m, x[i] >= 0)\n",
    "end\n",
    "@constraint(m, x[1] + 5x[2] + 10x[3] + 25x[4] + 50x[5] == 99)\n",
    "@constraint(m, 2.5x[1] + 5x[2] + 2.268x[3] + 5.670x[4] + 11.34x[5] <= 35)\n",
    "@objective(m, Min, sum(x[i] for i in 1:5))\n",
    "\n",
    "status = solve(m)\n",
    "println(\"# penny used = \", getvalue(x[1]))\n",
    "println(\"# nickel used = \", getvalue(x[2]))\n",
    "println(\"# dime used = \", getvalue(x[3]))\n",
    "println(\"# quarter used = \", getvalue(x[4]))\n",
    "println(\"# half dollar used = \", getvalue(x[5]))\n",
    "println(\"# of coins = \", getobjectivevalue(m))\n",
    ";"
   ]
  },
  {
   "cell_type": "markdown",
   "metadata": {},
   "source": [
    "In part b, it uses 1 half dollar to substitute for 2 quarters, this is reasonable since the objective in b is to minimize the number of coins used, regardless the total weight; although it is noticeable in this case that the weight of using 2 quarters is exactly the same as the weight of using 1 half dollar."
   ]
  },
  {
   "cell_type": "markdown",
   "metadata": {},
   "source": [
    "### 3. Comquat Computers"
   ]
  },
  {
   "cell_type": "code",
   "execution_count": 113,
   "metadata": {},
   "outputs": [
    {
     "name": "stdout",
     "output_type": "stream",
     "text": [
      "Produce 10000.0 in plant 1\n",
      "Produce 8000.0 in plant 2\n",
      "Produce 0.0 in plant 3\n",
      "Produce 2000.0 in plant 4\n",
      "$25.6 millions of maximum profit\n"
     ]
    }
   ],
   "source": [
    "using JuMP, Cbc\n",
    "\n",
    "m = Model(solver = CbcSolver())\n",
    "\n",
    "@variable(m, x[1:4] >= 0,Int)\n",
    "@variable(m, z[1:4], Bin)\n",
    "\n",
    "@constraint(m, x[1] <= 10000)  # capacity\n",
    "@constraint(m, x[2] <= 8000)  # capacity\n",
    "@constraint(m, x[3] <= 9000)  # capacity\n",
    "@constraint(m, x[4] <= 6000)  # capacity\n",
    "@constraint(m, sum(x[i] for i in 1:4) <= 20000) #total computers\n",
    "@constraint(m, x .<= 10000*z)                    # if x>0 then z=1\n",
    "\n",
    "@objective(m, Max, 2500*x[1] + 1800*x[2] + 1200*x[3] + 600*x[4] - \n",
    "    9000000*z[1] - 5000000*z[2] - 3000000*z[3] - 1000000*z[4])\n",
    "\n",
    "solve(m)\n",
    "\n",
    "xopt = getvalue(x)\n",
    "println(\"Produce \",xopt[1], \" in plant 1\")\n",
    "println(\"Produce \",xopt[2], \" in plant 2\")\n",
    "println(\"Produce \",xopt[3], \" in plant 3\")\n",
    "println(\"Produce \",xopt[4], \" in plant 4\")\n",
    "println(\"\\$\", getobjectivevalue(m)/1000000, \" millions of maximum profit\")"
   ]
  },
  {
   "cell_type": "markdown",
   "metadata": {},
   "source": [
    "### 4. ABC Investments"
   ]
  },
  {
   "cell_type": "code",
   "execution_count": 115,
   "metadata": {},
   "outputs": [
    {
     "name": "stdout",
     "output_type": "stream",
     "text": [
      "Optimal\n",
      "Option 1: $0.0 million\n",
      "Option 2: $0.0 million\n",
      "Option 3: $34.99999999999999 million\n",
      "Option 4: $5.0 million\n",
      "Option 5: $22.500000000000004 million\n",
      "Option 6: $17.500000000000004 million\n",
      "maximum expected return: $13.500000000000004 million\n"
     ]
    }
   ],
   "source": [
    "using JuMP, Cbc\n",
    "\n",
    "m = Model(solver = CbcSolver())\n",
    "\n",
    "min_invest = [3,2,9,5,12,4]\n",
    "max_invest = [27,12,35,15,46,18]\n",
    "@variable(m, x[1:6])\n",
    "@variable(m, z[1:6], Bin)\n",
    "for i in 1:6\n",
    "    @constraint(m, min_invest[i]*z[i] <= x[i])  \n",
    "    @constraint(m, x[i] <= max_invest[i]*z[i]) \n",
    "end\n",
    "@constraint(m, x .<= 50*z)                    # if x>0 then z=1\n",
    "@constraint(m,x[5] <= x[2] + x[4] + x[6])\n",
    "@constraint(m,z[3] <= z[6])\n",
    "@constraint(m,sum(x[i] for i in 1:6) <= 80)\n",
    "@objective(m, Max, 0.13*x[1] + 0.09*x[2] + 0.17*x[3] + 0.10*x[4] + 0.22*x[5] + 0.12*x[6])\n",
    "\n",
    "status = solve(m)\n",
    "xopt = getvalue(x)\n",
    "println(status)\n",
    "println(\"Option 1: \\$\", xopt[1],\" million\")\n",
    "println(\"Option 2: \\$\", xopt[2],\" million\")\n",
    "println(\"Option 3: \\$\", xopt[3],\" million\")\n",
    "println(\"Option 4: \\$\", xopt[4],\" million\")\n",
    "println(\"Option 5: \\$\", xopt[5],\" million\")\n",
    "println(\"Option 6: \\$\", xopt[6],\" million\")\n",
    "println(\"maximum expected return: \\$\", getobjectivevalue(m), \" million\")\n",
    ";"
   ]
  },
  {
   "cell_type": "code",
   "execution_count": null,
   "metadata": {},
   "outputs": [],
   "source": []
  }
 ],
 "metadata": {
  "kernelspec": {
   "display_name": "Julia 1.1.0",
   "language": "julia",
   "name": "julia-1.1"
  },
  "language_info": {
   "file_extension": ".jl",
   "mimetype": "application/julia",
   "name": "julia",
   "version": "1.1.0"
  }
 },
 "nbformat": 4,
 "nbformat_minor": 2
}
