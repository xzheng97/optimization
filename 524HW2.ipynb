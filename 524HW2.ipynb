{
 "cells": [
  {
   "cell_type": "code",
   "execution_count": 2,
   "metadata": {},
   "outputs": [],
   "source": [
    "using JuMP, Clp"
   ]
  },
  {
   "cell_type": "markdown",
   "metadata": {},
   "source": [
    "### 1. Polyhedron modeling\n",
    "a) From the graph, the decision variables can be denoted as x,y,z.\n",
    "$$\\begin{aligned}\n",
    "\\qquad& x \\le 1\\\\\n",
    "\\qquad& x \\ge -1\\\\\n",
    "\\qquad& y \\le 1\\\\\n",
    "\\qquad& y \\ge -1\\\\\n",
    "\\qquad& z \\le 1\\\\\n",
    "\\qquad& z \\ge -1\\\\\n",
    "\\end{aligned}$$\n",
    "Transform them into standard form:\n",
    "$$\\begin{aligned}\n",
    "\\qquad& x \\le 1\\\\\n",
    "\\qquad& -x \\le 1\\\\\n",
    "\\qquad& y \\le 1\\\\\n",
    "\\qquad& -y \\le 1\\\\\n",
    "\\qquad& z \\le 1\\\\\n",
    "\\qquad& -z \\le 1\\\\\n",
    "\\end{aligned}$$                                   \n",
    "Therefore, matrix A is: "
   ]
  },
  {
   "cell_type": "code",
   "execution_count": 3,
   "metadata": {
    "hide_input": false
   },
   "outputs": [
    {
     "data": {
      "text/plain": [
       "6×3 Array{Int64,2}:\n",
       "  1   0   0\n",
       " -1   0   0\n",
       "  0   1   0\n",
       "  0  -1   0\n",
       "  0   0   1\n",
       "  0   0  -1"
      ]
     },
     "execution_count": 3,
     "metadata": {},
     "output_type": "execute_result"
    }
   ],
   "source": [
    "[1 0 0;-1 0 0;0 1 0;0 -1 0;0 0 1;0 0 -1;]\n",
    "                                    "
   ]
  },
  {
   "cell_type": "markdown",
   "metadata": {},
   "source": [
    "b is:"
   ]
  },
  {
   "cell_type": "code",
   "execution_count": 4,
   "metadata": {},
   "outputs": [
    {
     "data": {
      "text/plain": [
       "6-element Array{Int64,1}:\n",
       " 1\n",
       " 1\n",
       " 1\n",
       " 1\n",
       " 1\n",
       " 1"
      ]
     },
     "execution_count": 4,
     "metadata": {},
     "output_type": "execute_result"
    }
   ],
   "source": [
    "[1;1;1;1;1;1]"
   ]
  },
  {
   "cell_type": "markdown",
   "metadata": {},
   "source": [
    "b) From the graph, the decision variables can be denoted as x,y,z.\n",
    "$$\\begin{aligned}\n",
    "\\qquad& x + y + z\\le 1\\\\\n",
    "\\qquad& x - y + z\\le 1\\\\\n",
    "\\qquad& -x + y + z\\le 1\\\\\n",
    "\\qquad& -x - y + z\\le 1\\\\\n",
    "\\qquad& x + y + z\\ge -1\\\\\n",
    "\\qquad& x - y + z\\ge -1\\\\\n",
    "\\qquad& -x + y + z\\ge -1\\\\\n",
    "\\qquad& -x - y + z\\ge -1\\\\\n",
    "\\end{aligned}$$\n",
    "Transform them into standard form:\n",
    "$$\\begin{aligned}\n",
    "\\qquad& x + y + z\\le 1\\\\\n",
    "\\qquad& x - y + z\\le 1\\\\\n",
    "\\qquad& -x + y + z\\le 1\\\\\n",
    "\\qquad& -x - y + z\\le 1\\\\\n",
    "\\qquad& -x - y - z\\le 1\\\\\n",
    "\\qquad& -x + y - z\\le 1\\\\\n",
    "\\qquad& x - y - z\\le 1\\\\\n",
    "\\qquad& x + y - z\\le 1\\\\\n",
    "\\end{aligned}$$                                   \n",
    "Therefore, matrix A is: "
   ]
  },
  {
   "cell_type": "code",
   "execution_count": 5,
   "metadata": {},
   "outputs": [
    {
     "data": {
      "text/plain": [
       "8×3 Array{Int64,2}:\n",
       "  1   1   1\n",
       "  1  -1   1\n",
       " -1   1   1\n",
       " -1  -1   1\n",
       " -1  -1  -1\n",
       " -1   1  -1\n",
       "  1  -1  -1\n",
       "  1   1  -1"
      ]
     },
     "execution_count": 5,
     "metadata": {},
     "output_type": "execute_result"
    }
   ],
   "source": [
    "[1 1 1; 1 -1 1; -1 1 1; -1 -1 1; -1 -1 -1; -1 1 -1; 1 -1 -1; 1 1 -1]"
   ]
  },
  {
   "cell_type": "markdown",
   "metadata": {},
   "source": [
    "b is"
   ]
  },
  {
   "cell_type": "code",
   "execution_count": 6,
   "metadata": {
    "scrolled": true
   },
   "outputs": [
    {
     "data": {
      "text/plain": [
       "8-element Array{Int64,1}:\n",
       " 1\n",
       " 1\n",
       " 1\n",
       " 1\n",
       " 1\n",
       " 1\n",
       " 1\n",
       " 1"
      ]
     },
     "execution_count": 6,
     "metadata": {},
     "output_type": "execute_result"
    }
   ],
   "source": [
    "[1;1;1;1;1;1;1;1]"
   ]
  },
  {
   "cell_type": "markdown",
   "metadata": {},
   "source": [
    "### 2. Standard form with equality constraints\n",
    "a) According to the transfomation tricks that we learned in class, inequalities can be transformed into equalities by adding slack. And in order to get the minimization instead of maximization, we can take the negative of it. Along with these two tricks, I can also shift the variables in order to convert bounded to nonnegative, as specified in the question."
   ]
  },
  {
   "cell_type": "markdown",
   "metadata": {},
   "source": [
    "For the bounded variables: <br>\n",
    "let y2 = z2 + 1 so $-1 \\le z_2 \\le 5$ can be conterted into $y_2 + x_2 = 6$ such that $x_2, y_2 \\ge 0$ <br>\n",
    "let y3 = z3 + 1 so $-1 \\le z_3 \\le 5$ can be conterted into $y_3 + x_3 = 6$ such that $x_3, y_3 \\ge 0$ <br>\n",
    "let y4 = z4 + 2 so $-2 \\le z_4 \\le 2$ can be conterted into $y_4 + x_4 = 4$ such that $x_4, y_4 \\ge 0$ <br>\n",
    "For the inequalities: <br>\n",
    "Replace the old variables first:<br>\n",
    "$z_3 + z_4 \\le 2$ is transformed to $y_3 + y_4 \\le 5$ <br>\n",
    "$7z_2 + z_4 = 5$ is transformed to $7y_2 + y_4 = 14$ <br>\n",
    "For $-x_1 + 6z_2 - z_3 + z_4 \\ge -3$, since $x_1$ is unbounded here, we set up variables u and v such that $u - v = x_1, u,v \\ge 0$ <br>\n",
    "Thus the inequality is transformed to $-(u - v) + 6y_2 - y_3 + y_4 \\ge 4$ <br>\n",
    "Next, transform the inequalities into equalities. <br>\n",
    "$y_3 + y_4 \\le 5$ is transformed to $y_3 + y_4 + s_1 = 5, s_1\\ge0$<br>\n",
    "$-(u - v) + 6y_2 - y_3 + y_4 \\ge 4$ is transformed to $-(u - v) + 6y_2 - y_3 + y_4  - s_2 = 4, s_2\\ge0$<br>\n",
    "Then our objective is to minimize $-(3z_1 - z_2)$ which is $-(3(u-v) - y_2) = -3u + 3v + y_2$ <br>\n",
    "(note $z_2 = y_2 -1$, so the solution satisfies (original) = -(new-1))\n"
   ]
  },
  {
   "cell_type": "code",
   "execution_count": 7,
   "metadata": {},
   "outputs": [
    {
     "data": {
      "text/plain": [
       "6×10 Array{Int64,2}:\n",
       "  0  0  1   0  0  1  0  0  0   0\n",
       "  0  0  0   1  0  0  1  0  0   0\n",
       "  0  0  0   0  1  0  0  1  0   0\n",
       " -1  1  6  -1  1  0  0  0  0  -1\n",
       "  0  0  7   0  1  0  0  0  0   0\n",
       "  0  0  0   1  1  0  0  0  1   0"
      ]
     },
     "execution_count": 7,
     "metadata": {},
     "output_type": "execute_result"
    }
   ],
   "source": [
    "# we defined the vector x to be: \n",
    "#x = [u v y_2 y_3 y_4 x_2 x_3 x_4 s1 s2]\n",
    "A = [0 0 1 0 0 1 0 0 0 0;0 0 0 1 0 0 1 0 0 0;0 0 0 0 1 0 0 1 0 0; -1 1 6 -1 1 0 0 0 0 -1; 0 0 7 0 1 0 0 0 0 0; 0 0 0 1 1 0 0 0 1 0]"
   ]
  },
  {
   "cell_type": "code",
   "execution_count": 8,
   "metadata": {},
   "outputs": [
    {
     "data": {
      "text/plain": [
       "6-element Array{Int64,1}:\n",
       "  6\n",
       "  6\n",
       "  4\n",
       "  4\n",
       " 14\n",
       "  5"
      ]
     },
     "execution_count": 8,
     "metadata": {},
     "output_type": "execute_result"
    }
   ],
   "source": [
    "b = [6; 6; 4; 4; 14; 5]"
   ]
  },
  {
   "cell_type": "code",
   "execution_count": 9,
   "metadata": {},
   "outputs": [
    {
     "data": {
      "text/plain": [
       "10-element Array{Int64,1}:\n",
       " -3\n",
       "  3\n",
       "  1\n",
       "  0\n",
       "  0\n",
       "  0\n",
       "  0\n",
       "  0\n",
       "  0\n",
       "  0"
      ]
     },
     "execution_count": 9,
     "metadata": {},
     "output_type": "execute_result"
    }
   ],
   "source": [
    "c = [-3;3;1;0;0;0;0;0;0;0]"
   ]
  },
  {
   "cell_type": "markdown",
   "metadata": {},
   "source": [
    "Relations of decision variables with those of origional LP:<br>\n",
    "$z_1 = u-v, z_2 = y_2-1, z_3 = y_3-1,z_4 = y_4 -2$"
   ]
  },
  {
   "cell_type": "markdown",
   "metadata": {},
   "source": [
    "b) Original problem:"
   ]
  },
  {
   "cell_type": "code",
   "execution_count": 10,
   "metadata": {},
   "outputs": [
    {
     "data": {
      "text/latex": [
       "$$ \\begin{alignat*}{1}\\max\\quad & 3 z1 - z2\\\\\n",
       "\\text{Subject to} \\quad & -z1 + 6 z2 - z3 + z4 \\geq -3\\\\\n",
       " & 7 z2 + z4 = 5\\\\\n",
       " & z3 + z4 \\leq 2\\\\\n",
       " & z1\\\\\n",
       " & -1 \\leq z2 \\leq 5\\\\\n",
       " & -1 \\leq z3 \\leq 5\\\\\n",
       " & -2 \\leq z4 \\leq 2\\\\\n",
       "\\end{alignat*}\n",
       " $$"
      ],
      "text/plain": [
       "Maximization problem with:\n",
       " * 3 linear constraints\n",
       " * 4 variables\n",
       "Solver is Clp"
      ]
     },
     "execution_count": 10,
     "metadata": {},
     "output_type": "execute_result"
    }
   ],
   "source": [
    "original = Model(solver=ClpSolver())\n",
    "@variable(original, z1)\n",
    "@variable(original, -1<= z2 <= 5)\n",
    "@variable(original, -1 <= z3 <= 5)\n",
    "@variable(original, -2 <= z4 <= 2)\n",
    "\n",
    "@constraint(original, -z1 + 6z2 - z3 + z4 >= -3)\n",
    "@constraint(original, 7z2 + z4 == 5)\n",
    "@constraint(original, z3 + z4 <= 2)\n",
    "@objective(original, Max, 3z1 - z2 )\n",
    "\n",
    "original"
   ]
  },
  {
   "cell_type": "code",
   "execution_count": 11,
   "metadata": {},
   "outputs": [
    {
     "data": {
      "text/latex": [
       "$$ \\begin{alignat*}{1}\\min\\quad & -3 x_{1} + 3 x_{2} + x_{3}\\\\\n",
       "\\text{Subject to} \\quad & x_{3} + x_{6} = 6\\\\\n",
       " & x_{4} + x_{7} = 6\\\\\n",
       " & x_{5} + x_{8} = 4\\\\\n",
       " & -x_{1} + x_{2} + 6 x_{3} - x_{4} + x_{5} - x_{10} = 4\\\\\n",
       " & 7 x_{3} + x_{5} = 14\\\\\n",
       " & x_{4} + x_{5} + x_{9} = 5\\\\\n",
       " & x_{i} \\geq 0 \\quad\\forall i \\in \\{1,2,\\dots,9,10\\}\\\\\n",
       "\\end{alignat*}\n",
       " $$"
      ],
      "text/plain": [
       "Minimization problem with:\n",
       " * 6 linear constraints\n",
       " * 10 variables\n",
       "Solver is Clp"
      ]
     },
     "execution_count": 11,
     "metadata": {},
     "output_type": "execute_result"
    }
   ],
   "source": [
    "# transformed version\n",
    "transform = Model(solver=ClpSolver())\n",
    "@variable(transform, x[1:10] >= 0 )      # specify a vector variable x\n",
    "@constraint(transform, A*x .== b )      # the dot in front of <=, \n",
    "                                      # which indicates element-wise (vector) inequalities\n",
    "@objective(transform, Min, c'*x )       # Note the transpose of the cost vector c\n",
    "\n",
    "transform"
   ]
  },
  {
   "cell_type": "code",
   "execution_count": 12,
   "metadata": {},
   "outputs": [
    {
     "name": "stdout",
     "output_type": "stream",
     "text": [
      "Max 3 z1 - z2\n",
      "Subject to\n",
      " -z1 + 6 z2 - z3 + z4 ≥ -3\n",
      " 7 z2 + z4 = 5\n",
      " z3 + z4 ≤ 2\n",
      " z1\n",
      " -1 ≤ z2 ≤ 5\n",
      " -1 ≤ z3 ≤ 5\n",
      " -2 ≤ z4 ≤ 2\n",
      "\n",
      "Optimal\n",
      "\n",
      "z1 = 8.571428571428571\n",
      "z2 = 0.42857142857142855\n",
      "z3 = -1.0\n",
      "z4 = 2.0\n",
      "objective = 25.28571428571429\n",
      "\n",
      "\n"
     ]
    }
   ],
   "source": [
    "status = solve(original)\n",
    "\n",
    "println(original)\n",
    "println(status)\n",
    "println()\n",
    "println(\"z1 = \", getvalue(z1))\n",
    "println(\"z2 = \", getvalue(z2))\n",
    "println(\"z3 = \", getvalue(z3))\n",
    "println(\"z4 = \", getvalue(z4))\n",
    "println(\"objective = \", getobjectivevalue(original) )\n",
    "println()\n",
    "println()"
   ]
  },
  {
   "cell_type": "code",
   "execution_count": 13,
   "metadata": {},
   "outputs": [
    {
     "name": "stdout",
     "output_type": "stream",
     "text": [
      "Min -3 x[1] + 3 x[2] + x[3]\n",
      "Subject to\n",
      " x[3] + x[6] = 6\n",
      " x[4] + x[7] = 6\n",
      " x[5] + x[8] = 4\n",
      " -x[1] + x[2] + 6 x[3] - x[4] + x[5] - x[10] = 4\n",
      " 7 x[3] + x[5] = 14\n",
      " x[4] + x[5] + x[9] = 5\n",
      " x[i] ≥ 0 ∀ i ∈ {1,2,…,9,10}\n",
      "\n",
      "Optimal\n",
      "\n",
      "z1 = 8.571428571428571\n",
      "z2 = 0.4285714285714286\n",
      "z3 = -1.0\n",
      "z4 = 2.0\n",
      "objective = 25.28571428571429\n"
     ]
    }
   ],
   "source": [
    "status = solve(transform)\n",
    "\n",
    "println(transform)\n",
    "println(status)\n",
    "println()\n",
    "println(\"z1 = \", getvalue(x[1]-x[2]))\n",
    "println(\"z2 = \", getvalue(x[3] - 1) )\n",
    "println(\"z3 = \", getvalue(x[4] - 1) )\n",
    "println(\"z4 = \", getvalue(x[5] - 2) )\n",
    "println(\"objective = \", -(getobjectivevalue(transform)) + 1)"
   ]
  },
  {
   "cell_type": "markdown",
   "metadata": {},
   "source": [
    "### 3. Road Lighting"
   ]
  },
  {
   "cell_type": "markdown",
   "metadata": {},
   "source": [
    "a) Our goal is to minimize the total power usage along the road. So we want to minimize $ \\sum_{j = 1}^{m} p_j$, subject to $\\sum_{j = 1}^{m} a_{ij} p_j \\ge I_i^{min}$, with variable $p_j, j \\in n$. <br>\n",
    "This formulation is bounded by the constraint minimum required illumination of each road segment, as well as the condition that $p_j \\ge 0$.<br>\n"
   ]
  },
  {
   "cell_type": "markdown",
   "metadata": {},
   "source": [
    "b) Since the formulation does not have any upperbound, if we try to maximize the use of power, it's not going to provide with any solution, because it's unbounded."
   ]
  },
  {
   "cell_type": "markdown",
   "metadata": {},
   "source": [
    "c) Since applying strict inequality will prevent obtaining the optimal solution, and valid linear program formulation would provide us with the optimal solution. Therefure, I would not get the same solution as part a) once applied strict inequality.<br>\n",
    "This is not a standard linear program."
   ]
  },
  {
   "cell_type": "markdown",
   "metadata": {},
   "source": [
    "### 4. Stigler's diet\n"
   ]
  },
  {
   "cell_type": "code",
   "execution_count": 14,
   "metadata": {},
   "outputs": [
    {
     "ename": "MethodError",
     "evalue": "MethodError: Cannot `convert` an object of type DataFrames.DataFrameRow{DataFrames.DataFrame,DataFrames.SubIndex{DataFrames.Index,UnitRange{Int64},UnitRange{Int64}}} to an object of type Array{T,2} where T\nClosest candidates are:\n  convert(::Type{T<:Array}, !Matched::AbstractArray) where T<:Array at array.jl:489\n  convert(::Type{T<:AbstractArray}, !Matched::T<:AbstractArray) where T<:AbstractArray at abstractarray.jl:14\n  convert(::Type{T<:AbstractArray}, !Matched::LinearAlgebra.Factorization) where T<:AbstractArray at /buildworker/worker/package_linux64/build/usr/share/julia/stdlib/v1.0/LinearAlgebra/src/factorization.jl:46\n  ...",
     "output_type": "error",
     "traceback": [
      "MethodError: Cannot `convert` an object of type DataFrames.DataFrameRow{DataFrames.DataFrame,DataFrames.SubIndex{DataFrames.Index,UnitRange{Int64},UnitRange{Int64}}} to an object of type Array{T,2} where T\nClosest candidates are:\n  convert(::Type{T<:Array}, !Matched::AbstractArray) where T<:Array at array.jl:489\n  convert(::Type{T<:AbstractArray}, !Matched::T<:AbstractArray) where T<:AbstractArray at abstractarray.jl:14\n  convert(::Type{T<:AbstractArray}, !Matched::LinearAlgebra.Factorization) where T<:AbstractArray at /buildworker/worker/package_linux64/build/usr/share/julia/stdlib/v1.0/LinearAlgebra/src/factorization.jl:46\n  ...",
      "",
      "Stacktrace:",
      " [1] top-level scope at In[14]:22"
     ]
    }
   ],
   "source": [
    "# a)\n",
    "# STARTER CODE FOR STIGLER'S DIET PROBLEM\n",
    "using CSV\n",
    "using JuMP, Clp\n",
    "# import Stigler's data set\n",
    "raw = CSV.read(\"stigler.csv\")\n",
    "# Get data\n",
    "\n",
    "# list of food\n",
    "foods = raw[2:end,1]\n",
    "\n",
    "# list of nutrients\n",
    "nutrients = [string(names(raw)[i]) for i=2:length(names(raw))]\n",
    "\n",
    "# minimum required amount of each nutrient\n",
    "lower_bound = raw[1,2:end]\n",
    "\n",
    "# data[f,i] is the amount of nutrient i contained in food f \n",
    "data = raw[2:end,2:end]\n",
    "\n",
    "A = (convert(Matrix, data))\n",
    "b = convert(Matrix, lower_bound) * 365\n",
    "c = ones(77)\n",
    "compact = Model(solver=ClpSolver())\n",
    "@variable(compact, x[1:77] >= 0 )      # specify a vector variable x\n",
    "@constraint(compact, A'*x .>= b' )      # the dot in front of >=, \n",
    "                                      # which indicates element-wise (vector) inequalities\n",
    "@objective(compact, Min, c'*x )       # Note the transpose of the cost vector c\n",
    "\n",
    "status = solve(compact)\n"
   ]
  },
  {
   "cell_type": "code",
   "execution_count": 15,
   "metadata": {},
   "outputs": [
    {
     "ename": "UndefVarError",
     "evalue": "UndefVarError: compact not defined",
     "output_type": "error",
     "traceback": [
      "UndefVarError: compact not defined",
      "",
      "Stacktrace:",
      " [1] top-level scope at In[15]:1"
     ]
    }
   ],
   "source": [
    "\n",
    "println(\"The lowest cost is \", getobjectivevalue(compact))\n",
    "println();\n",
    "for i in 1:77\n",
    "    if getvalue(x[i]) > 0\n",
    "        println(foods[i])\n",
    "            end\n",
    "end\n",
    "println()\n",
    "println()"
   ]
  },
  {
   "cell_type": "code",
   "execution_count": 16,
   "metadata": {},
   "outputs": [
    {
     "ename": "MethodError",
     "evalue": "MethodError: Cannot `convert` an object of type DataFrames.DataFrameRow{DataFrames.DataFrame,DataFrames.SubIndex{DataFrames.Index,UnitRange{Int64},UnitRange{Int64}}} to an object of type Array{T,2} where T\nClosest candidates are:\n  convert(::Type{T<:Array}, !Matched::AbstractArray) where T<:Array at array.jl:489\n  convert(::Type{T<:AbstractArray}, !Matched::T<:AbstractArray) where T<:AbstractArray at abstractarray.jl:14\n  convert(::Type{T<:AbstractArray}, !Matched::LinearAlgebra.Factorization) where T<:AbstractArray at /buildworker/worker/package_linux64/build/usr/share/julia/stdlib/v1.0/LinearAlgebra/src/factorization.jl:46\n  ...",
     "output_type": "error",
     "traceback": [
      "MethodError: Cannot `convert` an object of type DataFrames.DataFrameRow{DataFrames.DataFrame,DataFrames.SubIndex{DataFrames.Index,UnitRange{Int64},UnitRange{Int64}}} to an object of type Array{T,2} where T\nClosest candidates are:\n  convert(::Type{T<:Array}, !Matched::AbstractArray) where T<:Array at array.jl:489\n  convert(::Type{T<:AbstractArray}, !Matched::T<:AbstractArray) where T<:AbstractArray at abstractarray.jl:14\n  convert(::Type{T<:AbstractArray}, !Matched::LinearAlgebra.Factorization) where T<:AbstractArray at /buildworker/worker/package_linux64/build/usr/share/julia/stdlib/v1.0/LinearAlgebra/src/factorization.jl:46\n  ...",
      "",
      "Stacktrace:",
      " [1] top-level scope at In[16]:22"
     ]
    }
   ],
   "source": [
    "\n",
    "# STARTER CODE FOR STIGLER'S DIET PROBLEM\n",
    "using CSV\n",
    "using JuMP, Clp\n",
    "# import Stigler's data set\n",
    "raw = CSV.read(\"stigler_vege.csv\")\n",
    "# Get data\n",
    "\n",
    "# list of food\n",
    "foods = raw[2:end,1]\n",
    "\n",
    "# list of nutrients\n",
    "nutrients = [string(names(raw)[i]) for i=2:length(names(raw))]\n",
    "\n",
    "# minimum required amount of each nutrient\n",
    "lower_bound = raw[1,2:end]\n",
    "\n",
    "# data[f,i] is the amount of nutrient i contained in food f \n",
    "data = raw[2:end,2:end]\n",
    "\n",
    "A = (convert(Matrix, data))\n",
    "b = convert(Matrix, lower_bound) * 365\n",
    "c = ones(60)\n",
    "compact = Model(solver=ClpSolver())\n",
    "@variable(compact, x[1:60] >= 0 )      # specify a vector variable x\n",
    "@constraint(compact, A'*x .>= b' )      # the dot in front of >=, \n",
    "                                      # which indicates element-wise (vector) inequalities\n",
    "@objective(compact, Min, c'*x )       # Note the transpose of the cost vector c\n",
    "\n",
    "status = solve(compact)\n"
   ]
  },
  {
   "cell_type": "code",
   "execution_count": 17,
   "metadata": {},
   "outputs": [
    {
     "ename": "UndefVarError",
     "evalue": "UndefVarError: compact not defined",
     "output_type": "error",
     "traceback": [
      "UndefVarError: compact not defined",
      "",
      "Stacktrace:",
      " [1] top-level scope at In[17]:1"
     ]
    }
   ],
   "source": [
    "\n",
    "println(\"The lowest cost is \", getobjectivevalue(compact))\n",
    "println();\n",
    "for i in 1:60\n",
    "    if getvalue(x[i]) > 0\n",
    "        println(foods[i])\n",
    "            end\n",
    "end\n",
    "println()\n",
    "println()"
   ]
  },
  {
   "cell_type": "code",
   "execution_count": null,
   "metadata": {},
   "outputs": [],
   "source": []
  }
 ],
 "metadata": {
  "celltoolbar": "Raw Cell Format",
  "kernelspec": {
   "display_name": "Julia 1.0.3",
   "language": "julia",
   "name": "julia-1.0"
  },
  "language_info": {
   "file_extension": ".jl",
   "mimetype": "application/julia",
   "name": "julia",
   "version": "1.0.3"
  }
 },
 "nbformat": 4,
 "nbformat_minor": 2
}
