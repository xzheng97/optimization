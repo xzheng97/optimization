{
 "cells": [
  {
   "cell_type": "markdown",
   "metadata": {},
   "source": [
    "### 1. Doodle Scheduling"
   ]
  },
  {
   "cell_type": "code",
   "execution_count": 23,
   "metadata": {},
   "outputs": [
    {
     "name": "stdout",
     "output_type": "stream",
     "text": [
      "Optimal"
     ]
    },
    {
     "data": {
      "text/plain": [
       "Dict{Any,Any} with 15 entries:\n",
       "  :Florian => \"1:00\"\n",
       "  :Malte   => \"lunch\"\n",
       "  :Anne    => \"11:40\"\n",
       "  :Matt    => \"10:00\"\n",
       "  :Tom     => \"2:20\"\n",
       "  :Manuel  => \"10:40\"\n",
       "  :Josep   => \"lunch\"\n",
       "  :Spyros  => \"11:00\"\n",
       "  :Luca    => \"1:40\"\n",
       "  :Daniel  => \"10:20\"\n",
       "  :Michael => \"11:20\"\n",
       "  :Joel    => \"2:40\"\n",
       "  :Mirjam  => \"2:00\"\n",
       "  :Jule    => \"lunch\"\n",
       "  :Chris   => \"1:20\""
      ]
     },
     "execution_count": 23,
     "metadata": {},
     "output_type": "execute_result"
    }
   ],
   "source": [
    "using JuMP, Clp, NamedArrays\n",
    "\n",
    "availability =\n",
    "  [ 0 0 1 1 0 0 0 1 1 0 0 0 0\n",
    "    0 1 1 0 0 0 0 0 1 1 0 0 0\n",
    "    0 0 0 1 1 0 1 1 0 1 1 1 1\n",
    "    0 0 0 1 1 1 1 1 1 1 1 1 0\n",
    "    0 0 0 0 0 0 1 1 1 0 0 0 0\n",
    "    0 1 1 0 0 0 0 0 1 1 0 0 0\n",
    "    0 0 0 1 1 1 1 0 0 0 0 0 0\n",
    "    1 1 0 0 0 0 0 0 0 0 1 1 1\n",
    "    1 1 1 0 0 0 0 0 0 1 1 0 0\n",
    "    0 0 0 0 0 0 0 1 1 0 0 0 0\n",
    "    0 0 0 0 0 0 1 1 1 0 0 0 0\n",
    "    1 1 0 0 0 1 1 1 1 0 0 1 1\n",
    "    1 1 1 0 1 1 0 0 0 0 0 1 1\n",
    "    0 1 1 1 0 0 0 0 0 0 0 0 0\n",
    "    1 1 0 0 1 1 0 0 0 0 0 0 0 ]\n",
    "\n",
    "TIMES = [\"10:00\",\"10:20\",\"10:40\",\"11:00\",\"11:20\",\"11:40\",\"lunch\",\n",
    "    \"1:00\",\"1:20\",\"1:40\",\"2:00\",\"2:20\",\"2:40\"]\n",
    "NAMES = [:Manuel,:Luca,:Jule,:Michael,:Malte,:Chris,:Spyros,:Mirjam,\n",
    "    :Matt,:Florian,:Josep,:Joel,:Tom,:Daniel,:Anne ]\n",
    "times = NamedArray( availability, (NAMES,TIMES), (\"NAME\",\"TIME\"))\n",
    "TIMES1 = TIMES[1:end .!= 7,:]\n",
    "TIMES2 = TIMES[7,:]\n",
    "m = Model(solver=ClpSolver())\n",
    "@variable(m,  0 <=x[NAMES,TIMES] <= 1)\n",
    "\n",
    "@constraint(m, a[i in NAMES], sum(x[i,j] for j in TIMES) == 1 )\n",
    "\n",
    "\n",
    "@constraint(m, b[j in TIMES1], sum(x[i,j] for i in NAMES) == 1 )\n",
    "\n",
    "\n",
    "@constraint(m, c[j in TIMES2], sum(x[i,j] for i in NAMES) == 3 )\n",
    "\n",
    "@constraint(m, sum( x[i,j]*times[i,j] for i in NAMES, j in TIMES ) == 15 )\n",
    "\n",
    "status = solve(m)\n",
    "print(status)\n",
    "\n",
    "dict = Dict()\n",
    "for i in NAMES\n",
    "    for j in TIMES\n",
    "        if(getvalue(x[i,j]) == 1)\n",
    "           dict[i] = j\n",
    "        end\n",
    "    end\n",
    "end\n",
    "            \n",
    "dict"
   ]
  },
  {
   "cell_type": "markdown",
   "metadata": {},
   "source": [
    "This is feasible."
   ]
  },
  {
   "cell_type": "markdown",
   "metadata": {},
   "source": [
    "### 2. Car Rental"
   ]
  },
  {
   "cell_type": "code",
   "execution_count": 24,
   "metadata": {},
   "outputs": [
    {
     "name": "stdout",
     "output_type": "stream",
     "text": [
      "Optimal\n",
      "10×10 Named Array{Int64,2}\n",
      "supSites ╲ DemSites │  1   2   3   4   5   6   7   8   9  10\n",
      "────────────────────┼───────────────────────────────────────\n",
      "1                   │  0   0   0   0   0   0   0   0   0   0\n",
      "2                   │  0   0   1   0   0   5   1   0   0   0\n",
      "3                   │  0   0   0   0   0   0   0   0   0   0\n",
      "4                   │  0   0   0   0   0   0   0   0   0   0\n",
      "5                   │  0   0   0   3   0   0   0   0   0   0\n",
      "6                   │  0   0   0   0   0   0   0   0   0   0\n",
      "7                   │  0   0   0   0   0   0   0   0   0   0\n",
      "8                   │  0   0   0   0   0   0   0   0   0   5\n",
      "9                   │  2   0   3   0   0   0   0   1   0   0\n",
      "10                  │  0   0   0   0   0   0   0   0   0   0\n",
      "\n",
      "Transport 1.0 cars from Agency 2 to Agency 3\n",
      "Transport 5.0 cars from Agency 2 to Agency 6\n",
      "Transport 1.0 cars from Agency 2 to Agency 7\n",
      "Transport 3.0 cars from Agency 5 to Agency 4\n",
      "Transport 5.0 cars from Agency 8 to Agency 10\n",
      "Transport 2.0 cars from Agency 9 to Agency 1\n",
      "Transport 3.0 cars from Agency 9 to Agency 3\n",
      "Transport 1.0 cars from Agency 9 to Agency 8\n",
      "Total cost will be $152.63901632295628\n"
     ]
    }
   ],
   "source": [
    "using JuMP, Clp, NamedArrays\n",
    "\n",
    "sites = collect(1:10)\n",
    "sites = collect(1:10)\n",
    "cost_per_mile = 0.5\n",
    "mile_per_unit = 1.3\n",
    "\n",
    "eucDist = Matrix(undef,10,10)\n",
    "\n",
    "xcoord = [0 20 18 30 35 33 5 5 11 2]\n",
    "ycoord = [0 20 10 12 0 25 27 10 0 15]\n",
    "\n",
    "for i in 1:10\n",
    "    for j in 1:10\n",
    "        xdiff = xcoord[j] - xcoord[i]\n",
    "        ydiff = ycoord[j] - ycoord[i]\n",
    "        eucDist[i,j] = sqrt(xdiff*xdiff + ydiff*ydiff)\n",
    "    end\n",
    "end\n",
    "\n",
    "dist = NamedArray( eucDist, (sites,sites), (\"SupSites\",\"DemSites\"))\n",
    "\n",
    "supply = Dict(zip( sites, [8 13 4 8 12 2 14 11 15 7] ))\n",
    "demand = Dict(zip( sites, [10 6 8 11 9 7 15 7 9 12] ))\n",
    "\n",
    "m = Model(solver=ClpSolver())\n",
    "\n",
    "@variable(m, x[sites,sites] >= 0)  # x[i,j] is cars shipped from site i to site j.\n",
    "\n",
    "@constraint(m, a[i in sites], supply[i] + sum(x[j,i] for j in sites)\n",
    "    - sum(x[i,j] for j in sites) == demand[i] )   \n",
    "\n",
    "@objective(m, Min, cost_per_mile*mile_per_unit*sum( x[i,j]*dist[i,j]\n",
    "        for i in sites, j in sites ) ) # minimize transportation cost\n",
    "\n",
    "status = solve(m)\n",
    "\n",
    "println(status)\n",
    "\n",
    "\n",
    "# nicely formatted solution\n",
    "solution = NamedArray( Int[getvalue(x[i,j]) for i in sites, j in sites],\n",
    "    (sites,sites), (\"supSites\",\"DemSites\") )\n",
    "println( solution )\n",
    "println()\n",
    "for i in 1:10\n",
    "    for j in 1:10\n",
    "        if getvalue(x[i,j])!= 0\n",
    "            println(\"Transport \", getvalue(x[i,j]), \" cars from Agency \", \n",
    "                i, \" to Agency \", j)\n",
    "        end\n",
    "    end\n",
    "end\n",
    "\n",
    "println(\"Total cost will be \\$\", getobjectivevalue(m))"
   ]
  },
  {
   "cell_type": "markdown",
   "metadata": {},
   "source": [
    "### 3. Building a stadium"
   ]
  },
  {
   "cell_type": "code",
   "execution_count": 25,
   "metadata": {},
   "outputs": [
    {
     "name": "stdout",
     "output_type": "stream",
     "text": [
      "tstart: 1 dimensions:\n",
      "[ 1] = -0.0\n",
      "[ 2] = 2.0\n",
      "[ 3] = 18.0\n",
      "[ 4] = 18.0\n",
      "[ 5] = 27.0\n",
      "[ 6] = 37.0\n",
      "[ 7] = 26.0\n",
      "[ 8] = 43.0\n",
      "[ 9] = 43.0\n",
      "[10] = 26.0\n",
      "[11] = 43.0\n",
      "[12] = 52.0\n",
      "[13] = 28.0\n",
      "[14] = 18.0\n",
      "[15] = 26.0\n",
      "[16] = 46.0\n",
      "[17] = 54.0\n",
      "[18] = 63.0\n",
      "The least possible number of days towards completion:64.0\n"
     ]
    }
   ],
   "source": [
    "#a\n",
    "using JuMP,Clp\n",
    "\n",
    "tasks = 1:18\n",
    "dur = [2 16 9 8 10 6 2 2 9 5 3 2 1 7 4 3 9 1]\n",
    "duration = Dict(zip(tasks,dur))\n",
    "predecessors = ( [], [1], [2], [2], [3], [4,5], [4], [6], [4,6], [4],\n",
    "    [6], [9], [7], [2], [4,14], [8,11,14], [12], [17] )\n",
    "pred_dict = Dict(zip(tasks,predecessors));  \n",
    "\n",
    "m = Model(solver=ClpSolver())\n",
    "\n",
    "@variable(m, tstart[tasks])\n",
    "\n",
    "\n",
    "for i in tasks\n",
    "    for j in pred_dict[i]\n",
    "        @constraint(m, tstart[i] >= tstart[j] + duration[j])\n",
    "    end\n",
    "end\n",
    "@constraint(m, tstart[1] == 0)\n",
    "@objective(m, Min, tstart[18] + duration[18])     \n",
    "# total duration is start time of last task + duration of last task.\n",
    "\n",
    "solve(m)\n",
    "println(getvalue(tstart))\n",
    "println(\"The least possible number of days towards completion:\", getobjectivevalue(m))\n"
   ]
  },
  {
   "cell_type": "code",
   "execution_count": 26,
   "metadata": {},
   "outputs": [
    {
     "name": "stdout",
     "output_type": "stream",
     "text": [
      "tstart: 1 dimensions:\n",
      "[ 1] = -0.0\n",
      "[ 2] = 2.0\n",
      "[ 3] = 18.0\n",
      "[ 4] = 18.0\n",
      "[ 5] = 26.0\n",
      "[ 6] = 34.0\n",
      "[ 7] = 26.0\n",
      "[ 8] = 39.0\n",
      "[ 9] = 39.0\n",
      "[10] = 26.0\n",
      "[11] = 39.0\n",
      "[12] = 48.0\n",
      "[13] = 28.0\n",
      "[14] = 18.0\n",
      "[15] = 26.0\n",
      "[16] = 42.0\n",
      "[17] = 50.0\n",
      "[18] = 56.0\n",
      "maximum profit: 87.0k.\n",
      "Weeks taken: 57.0\n"
     ]
    }
   ],
   "source": [
    "#b\n",
    "using JuMP,Clp\n",
    "\n",
    "tasks = 1:18\n",
    "dur = [2 16 9 8 10 6 2 2 9 5 3 2 1 7 4 3 9 1]\n",
    "duration = Dict(zip(tasks,dur))\n",
    "predecessors = ( [], [1], [2], [2], [3], [4,5], [4], [6], [4,6], [4], [6], [9], [7], \n",
    "    [2],[4,14], [8,11,14], [12], [17] )\n",
    "pred_dict = Dict(zip(tasks,predecessors)); # dictionary mapping tasks --> predecessors.\n",
    "\n",
    "\n",
    "max_reduction =  [0,  3,  1,  2,  2,  1, 1, 0,  2,  1,  1, 0, 0,  2,  2, 1,  3, 0]\n",
    "# max reduction (in weeks)\n",
    "red_dict = Dict(zip(tasks,max_reduction));  \n",
    "# dictionary mapping tasks --> week max reduction.\n",
    "\n",
    "\n",
    "cost_reduction = [0, 30, 26, 12, 17, 15, 8, 0, 42, 21, 18, 0, 0, 22, 12, 6, 16, 0]\n",
    "# cost of reduction ($1,000/week)\n",
    "bonus_amount = 30     # bonus for expediting the project ($1,000/week )\n",
    "\n",
    "m = Model(solver=ClpSolver())\n",
    "@variable(m, tstart[tasks])\n",
    "@variable(m, redNum[tasks])\n",
    "\n",
    "for i in tasks\n",
    "    @constraint(m, 0 <= redNum[i] <= max_reduction[i])\n",
    "    for j in pred_dict[i]\n",
    "        @constraint(m, tstart[i] >= tstart[j] + duration[j] - redNum[j])\n",
    "    end\n",
    "end\n",
    "@constraint(m, tstart[1] == 0)\n",
    "@objective(m, Max, (64 - (tstart[18] + duration[18] - redNum[18]))* bonus_amount - \n",
    "    sum(redNum[i]*cost_reduction[i] for i in tasks) )       \n",
    "# total duration is start time of last task + duration of last task.\n",
    "\n",
    "solve(m)\n",
    "println(getvalue(tstart))\n",
    "println(\"maximum profit: \", getobjectivevalue(m),\"k.\")\n",
    "weeks = getvalue(tstart[18]) .- getvalue(redNum[18]) + duration[18]\n",
    "println(\"Weeks taken: \", weeks)\n"
   ]
  },
  {
   "cell_type": "markdown",
   "metadata": {},
   "source": [
    "### 4. Museum site planning"
   ]
  },
  {
   "cell_type": "code",
   "execution_count": 27,
   "metadata": {},
   "outputs": [
    {
     "name": "stdout",
     "output_type": "stream",
     "text": [
      "Optimal\n",
      "The coordinates of one museum are: [108.452, 391.548]\n",
      "The largest possible radius of that museum is: 108.45240525773497\n",
      "Optimal\n",
      "The coordinates of one museum are: [355.092, 201.05]\n",
      "The largest possible radius of that museum is: 201.0495106921289\n"
     ]
    }
   ],
   "source": [
    "#a\n",
    "# Inequalities for the upper area\n",
    "# (5/3)x - y <= 0 \n",
    "# y <= 500\n",
    "# -x <= 0\n",
    "#\n",
    "A = [5/3 -1; 0 1; -1 0];\n",
    "b = [0;500;0]\n",
    "\n",
    "using JuMP, Clp, LinearAlgebra\n",
    "# If you haven't yet installed the linear algebra package, do the standard thing:\n",
    "# using Pkg, Pkg.add(\"LinearAlgebra\")\n",
    "\n",
    "m = Model(solver=ClpSolver())\n",
    "@variable(m, r >= 0)           # radius\n",
    "@variable(m, x[1:2])           # coordinates of center\n",
    "for i = 1:size(A,1)\n",
    "    @constraint(m, A[i,:]'*x + r*norm(A[i,:]) <= b[i])\n",
    "end\n",
    "@objective(m, Max, r)     # maximize radius\n",
    "\n",
    "status = solve(m)\n",
    "center1 = getvalue(x)\n",
    "radius1 = getvalue(r)\n",
    "\n",
    "println(status)\n",
    "println(\"The coordinates of one museum are: \", center1)\n",
    "println(\"The largest possible radius of that museum is: \", radius1)\n",
    "\n",
    "# Inequalities for the lower area\n",
    "# -(5/3)x + y <= 0 \n",
    "# -y <= 0\n",
    "# 3x - y <= 1500\n",
    "# (2/3)x + y <= 700\n",
    "\n",
    "A = [-5/3 1; 0 -1; 3 -1; 2/3 1];\n",
    "b = [0;0;1500;700]\n",
    "\n",
    "m = Model(solver=ClpSolver())\n",
    "@variable(m, r >= 0)           # radius\n",
    "@variable(m, x[1:2])           # coordinates of center\n",
    "for i = 1:size(A,1)\n",
    "    @constraint(m, A[i,:]'*x + r*norm(A[i,:]) <= b[i])\n",
    "end\n",
    "@objective(m, Max, r)     # maximize radius\n",
    "\n",
    "status = solve(m)\n",
    "center2 = getvalue(x)\n",
    "radius2 = getvalue(r)\n",
    "\n",
    "println(status)\n",
    "println(\"The coordinates of one museum are: \", center2)\n",
    "println(\"The largest possible radius of that museum is: \", radius2)"
   ]
  },
  {
   "cell_type": "code",
   "execution_count": 28,
   "metadata": {},
   "outputs": [
    {
     "data": {
      "image/png": "[encoded data removed]"
     },
     "execution_count": 28,
     "metadata": {},
     "output_type": "execute_result"
    }
   ],
   "source": [
    "using Plots\n",
    "pyplot()\n",
    "\n",
    "x = 0:600\n",
    "y1 = (5/3)x\n",
    "y2 = 700 .- (2/3)x\n",
    "y3 = 500\n",
    "y4 = 3x .- 1500\n",
    "plot(x, y1, xlim = (0,600), ylim = (0,500), color = \"red\", \n",
    "    title=\"Museum Site Planning\")\n",
    "plot!(x, y2,color = \"blue\")\n",
    "plot!(zero, color = \"blue\")\n",
    "plot!(x, y4,color = \"blue\")\n",
    "x = 1:300\n",
    "plot!(x, y3*ones(size(x)), color = \"blue\")\n",
    "tmin = 0\n",
    "tmax = 2pi\n",
    "tvec = range(tmin, stop = tmax, length = 100)\n",
    "plot!(center1[1] .+ radius1*sin.(tvec), center1[2] .+ \n",
    "    radius1*cos.(tvec), fill = (0,0.05,:auto))\n",
    "plot!(center2[1] .+ radius2*sin.(tvec), center2[2] .+ \n",
    "    radius2*cos.(tvec), fill = (0,0.05,:auto))\n",
    "plot!(legend = false)\n",
    "\n"
   ]
  },
  {
   "cell_type": "markdown",
   "metadata": {},
   "source": [
    "#b\n",
    "If the restriction is removed, then the problem is no longer a linear programming problem.\n",
    "And I think the area that covered by the two new museums without restrictions will be larger than the original area.\n",
    "Since in a given area, a larger circle can always occupy more areas than the area that two circles can cover. Therefore, if the restriction is removed, and a relatively largest circle is drawn, with the other circle drawn in the remaining area, these two museums would cover more than the original area."
   ]
  }
 ],
 "metadata": {
  "kernelspec": {
   "display_name": "Julia 1.0.3",
   "language": "julia",
   "name": "julia-1.0"
  },
  "language_info": {
   "file_extension": ".jl",
   "mimetype": "application/julia",
   "name": "julia",
   "version": "1.0.3"
  }
 },
 "nbformat": 4,
 "nbformat_minor": 2
}
